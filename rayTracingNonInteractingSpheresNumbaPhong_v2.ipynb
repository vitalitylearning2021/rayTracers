{
  "nbformat": 4,
  "nbformat_minor": 0,
  "metadata": {
    "colab": {
      "provenance": [],
      "gpuType": "T4"
    },
    "kernelspec": {
      "name": "python3",
      "display_name": "Python 3"
    },
    "language_info": {
      "name": "python"
    },
    "accelerator": "GPU"
  },
  "cells": [
    {
      "cell_type": "code",
      "source": [
        "import numpy as np\n",
        "import math\n",
        "from numba import cuda, float32"
      ],
      "metadata": {
        "id": "Tu5ltIQRz4Bj"
      },
      "execution_count": 1,
      "outputs": []
    },
    {
      "cell_type": "code",
      "source": [
        "@cuda.jit(device=True)\n",
        "def normalize_vector(input_array):\n",
        "    norm = float32(0.0)\n",
        "    for i in range(len(input_array)):\n",
        "        norm += input_array[i] ** 2\n",
        "    norm = math.sqrt(norm)\n",
        "    if norm > 0:\n",
        "        for i in range(len(input_array)):\n",
        "            input_array[i] /= norm"
      ],
      "metadata": {
        "id": "GTmey4vJ0yQI"
      },
      "execution_count": 2,
      "outputs": []
    },
    {
      "cell_type": "code",
      "source": [
        "@cuda.jit(device=True)\n",
        "def dot_product(a, b):\n",
        "    result = 0.0\n",
        "    for i in range(len(a)):\n",
        "        result += a[i] * b[i]\n",
        "    return result"
      ],
      "metadata": {
        "id": "HbKNiu6v003J"
      },
      "execution_count": 3,
      "outputs": []
    },
    {
      "cell_type": "code",
      "source": [
        "@cuda.jit(device=True)\n",
        "def phong_lighting(color, hit_point, normal, light_pos, view_dir, light_color, ambient_color, ambient_reflection, diffuse_reflection, specular_reflection, shininess):\n",
        "    \"\"\"\n",
        "    Compute the Phong lighting model.\n",
        "\n",
        "    Parameters:\n",
        "    - hit_point: The point of intersection.\n",
        "    - normal: Normal at the hit point.\n",
        "    - light_pos: Position of the light source.\n",
        "    - view_dir: Direction towards the camera.\n",
        "    - ambient_color, diffuse_reflection, specular_reflection: RGB arrays for ambient, diffuse, and specular components.\n",
        "    - shininess: Specular shininess coefficient.\n",
        "\n",
        "    Returns:\n",
        "    - final_color: Computed color based on Phong model.\n",
        "    \"\"\"\n",
        "    # Light position\n",
        "    light_pos = cuda.local.array(3, dtype=float32)\n",
        "    for i in range(3):\n",
        "      light_pos[i] = light_pos[i]\n",
        "\n",
        "    # Diffuse\n",
        "    light_dir = cuda.local.array(3, dtype=float32)\n",
        "\n",
        "    ambient = cuda.local.array(3, dtype=float32)\n",
        "    for i in range(3):\n",
        "        ambient[i] = ambient_reflection[i] * ambient_color[0][i]\n",
        "\n",
        "    for i in range(3):\n",
        "        light_dir[i] = light_pos[i] - hit_point[i]\n",
        "    normalize_vector(light_dir)\n",
        "    diffuse_intensity = max(dot_product(normal, light_dir), 0.0)\n",
        "    diffuse = cuda.local.array(3, dtype=float32)\n",
        "    for i in range(3):\n",
        "        diffuse[i] = diffuse_reflection[i] * light_color[0][i] * diffuse_intensity\n",
        "\n",
        "    # Specular\n",
        "    reflect_dir = cuda.local.array(3, dtype=float32)\n",
        "    for i in range(3):\n",
        "        reflect_dir[i] = 2.0 * dot_product(normal, light_dir) * normal[i] - light_dir[i]\n",
        "    normalize_vector(reflect_dir)\n",
        "    specular_intensity = pow(max(dot_product(view_dir, reflect_dir), 0.0), shininess)\n",
        "    specular = cuda.local.array(3, dtype=float32)\n",
        "    for i in range(3):\n",
        "        specular[i] = specular_reflection[i] * light_color[0][i] * specular_intensity\n",
        "\n",
        "    # Combine components\n",
        "    for i in range(3):\n",
        "        color[i] = ambient[i] + diffuse[i] + specular[i]\n",
        "        #color[i] = min(max(color[i], 0.0), 1.0)  # Clamp to [0, 1]\n",
        "    return color"
      ],
      "metadata": {
        "id": "56fG6_xY03s5"
      },
      "execution_count": 4,
      "outputs": []
    },
    {
      "cell_type": "code",
      "source": [
        "@cuda.jit(device=True)\n",
        "def ray_sphere_intersection(ray_origin, ray_direction, center, radius):\n",
        "    oc = cuda.local.array(3, dtype=float32)\n",
        "    for i in range(3):\n",
        "        oc[i] = ray_origin[i] - center[i]\n",
        "\n",
        "    a = dot_product(ray_direction, ray_direction)\n",
        "    b = 2.0 * dot_product(oc, ray_direction)\n",
        "    c = dot_product(oc, oc) - radius * radius\n",
        "    discriminant = b * b - 4 * a * c\n",
        "\n",
        "    if discriminant > 0.0:\n",
        "        t = (-b - math.sqrt(discriminant)) / (2.0 * a)\n",
        "        if t > 0.001:\n",
        "            return t, True\n",
        "    return float('inf'), False"
      ],
      "metadata": {
        "id": "xZxJIpGM1B3w"
      },
      "execution_count": 5,
      "outputs": []
    },
    {
      "cell_type": "code",
      "source": [
        "@cuda.jit\n",
        "def render(image, width, height, spheres, num_spheres, light_pos, light_color, ambient_color):\n",
        "    x, y = cuda.grid(2)\n",
        "    if x >= width or y >= height:\n",
        "        return\n",
        "\n",
        "    idx = y * width + x\n",
        "    u = x / width\n",
        "    v = y / height\n",
        "\n",
        "    # Ray origin\n",
        "    ray_origin = cuda.local.array(3, dtype=float32)\n",
        "    ray_origin[0] = 0.0\n",
        "    ray_origin[1] = 0.0\n",
        "    ray_origin[2] = 0.0\n",
        "\n",
        "    # Ray direction\n",
        "    # --- The camera is the [-1, 1]x[-1, 1] box located at z = 0.\n",
        "    ray_direction = cuda.local.array(3, dtype=float32)\n",
        "    ray_direction[0] = 2.0 * u - 1.0\n",
        "    ray_direction[1] = 2.0 * v - 1.0\n",
        "    ray_direction[2] = -1.0\n",
        "    normalize_vector(ray_direction)\n",
        "\n",
        "    closest_t = float('inf')\n",
        "    hit_sphere = -1\n",
        "    hit_point = cuda.local.array(3, dtype=float32)\n",
        "    normal = cuda.local.array(3, dtype=float32)\n",
        "\n",
        "    for i in range(num_spheres):\n",
        "        center          = spheres[i, :3]\n",
        "        radius          = spheres[i, 3]\n",
        "        t, hit = ray_sphere_intersection(ray_origin, ray_direction, center, radius)\n",
        "        if hit and t < closest_t:\n",
        "            closest_t = t\n",
        "            hit_sphere = i\n",
        "            for j in range(3):\n",
        "                hit_point[j] = ray_origin[j] + t * ray_direction[j]\n",
        "                normal[j] = (hit_point[j] - center[j]) / radius\n",
        "            normalize_vector(normal)\n",
        "\n",
        "    color = cuda.local.array(3, dtype=float32)\n",
        "    if hit_sphere >= 0:\n",
        "        view_dir              = cuda.local.array(3, dtype=float32)\n",
        "        ambient_reflection    = spheres[hit_sphere, 4:7]\n",
        "        diffuse_reflection    = spheres[hit_sphere, 7:10]\n",
        "        specular_reflection   = spheres[hit_sphere, 10:13]\n",
        "        shininess             = spheres[hit_sphere, 13]\n",
        "        for j in range(3):\n",
        "            view_dir[j] = -ray_direction[j]\n",
        "        normalize_vector(view_dir)\n",
        "        phong_lighting(color,\n",
        "            hit_point, normal, light_pos, view_dir,\n",
        "            light_color, ambient_color, ambient_reflection, diffuse_reflection, specular_reflection, shininess\n",
        "        )\n",
        "    else:\n",
        "      for j in range(3):\n",
        "        color[j] = 0.\n",
        "\n",
        "    max_intensity = max(1.0, max(color[0], color[1], color[2]))\n",
        "    for i in range(3):\n",
        "        color[i] = color[i] / max_intensity\n",
        "\n",
        "    image[idx, 0] = color[0]\n",
        "    image[idx, 1] = color[1]\n",
        "    image[idx, 2] = color[2]"
      ],
      "metadata": {
        "id": "VfnyTrUy1IkY"
      },
      "execution_count": 6,
      "outputs": []
    },
    {
      "cell_type": "code",
      "source": [
        "# Light position\n",
        "# --- The z coordinate of the light position should be positive as the light illuminates towards the negative z direction\n",
        "h_light_pos        = np.array([[0.0, 0.0, 5.0]], dtype = np.float32)\n",
        "\n",
        "h_ambient_color    = np.array([[1., 0., 0.]], dtype = np.float32)\n",
        "h_light_color      = np.array([[0., 0.5, 0.5]], dtype = np.float32)\n",
        "\n",
        "light_pos          = cuda.to_device(h_light_pos)\n",
        "ambient_color      = cuda.to_device(h_ambient_color)\n",
        "light_color        = cuda.to_device(h_light_color)"
      ],
      "metadata": {
        "id": "cS5tP9vH1j1w"
      },
      "execution_count": 7,
      "outputs": []
    },
    {
      "cell_type": "code",
      "source": [
        "# Sphere properties: x, y, z, radius, ambient_r, ambient_g, ambient_b, diffuse_r, diffuse_g, diffuse_b, specular_r, specular_g, specular_b, shininess\n",
        "spheres_data = np.array([\n",
        "#    [0.0, 0.0, -1.0, 0.5, 0.2, 0.4, 0.3, 0.3, 0.5, 0.01, 0.2, 0.5, 0.9, 8.0],\n",
        "#    [1.0, 0.0, -1.5, 0.5, 0.3, 0.1, 0.7, 0.6, 0., 0.0, 0.1, 0.3, 0.2, 20.0],\n",
        "    [-0.65, 0.0, -1.5, 0.5, 0.3, 0.1, 0.3, 0.3, 0.5, 0.01, 0.8, 0.5, 0.9, 8.0],\n",
        "    [ 0.65, 0.0, -1.5, 0.5, 0.3, 0.1, 0.3, 0.3, 0.5, 0.01, 0.8, 0.5, 0.9, 8.0],\n",
        "], dtype=np.float32)"
      ],
      "metadata": {
        "id": "UjY42bBU1LAA"
      },
      "execution_count": 8,
      "outputs": []
    },
    {
      "cell_type": "code",
      "source": [
        "# Image dimensions\n",
        "width, height = 800, 400\n",
        "threads_per_block = (16, 16)\n",
        "blocks_per_grid_x = (width + threads_per_block[0] - 1) // threads_per_block[0]\n",
        "blocks_per_grid_y = (height + threads_per_block[1] - 1) // threads_per_block[1]\n",
        "blocks_per_grid = (blocks_per_grid_x, blocks_per_grid_y)"
      ],
      "metadata": {
        "id": "ijcFRzfn1NkR"
      },
      "execution_count": 9,
      "outputs": []
    },
    {
      "cell_type": "code",
      "source": [
        "# Allocate memory for the image\n",
        "image = np.zeros((width * height, 3), dtype=np.float32)\n",
        "image_gpu = cuda.to_device(image)\n",
        "spheres_gpu = cuda.to_device(spheres_data)"
      ],
      "metadata": {
        "id": "QQ6fAFFR1PuA"
      },
      "execution_count": 10,
      "outputs": []
    },
    {
      "cell_type": "code",
      "source": [
        "# Launch the kernel\n",
        "render[blocks_per_grid, threads_per_block](image_gpu, width, height, spheres_gpu, len(spheres_data), light_pos, light_color, ambient_color)"
      ],
      "metadata": {
        "id": "et_VCdFZ1RV4"
      },
      "execution_count": 11,
      "outputs": []
    },
    {
      "cell_type": "code",
      "execution_count": 12,
      "metadata": {
        "id": "MNrw9-ujH30Z",
        "colab": {
          "base_uri": "https://localhost:8080/",
          "height": 285
        },
        "outputId": "61175210-3b8d-4fd4-d063-14c96314c91b"
      },
      "outputs": [
        {
          "output_type": "display_data",
          "data": {
            "text/plain": [
              "<Figure size 640x480 with 1 Axes>"
            ],
            "image/png": "[encoded data removed]"
          },
          "metadata": {}
        }
      ],
      "source": [
        "# Copy the result back to host\n",
        "image_gpu.copy_to_host(image)\n",
        "\n",
        "# Normalize dynamically if needed\n",
        "max_val = np.max(image)\n",
        "if max_val > 1.0:\n",
        "    image /= max_val\n",
        "image = (image * 255).astype(np.uint8)\n",
        "\n",
        "# Reshape and save\n",
        "image = image.reshape((height, width, 3))\n",
        "import matplotlib.pyplot as plt\n",
        "plt.imshow(image)\n",
        "plt.axis('off')\n",
        "plt.show()\n"
      ]
    }
  ]
}