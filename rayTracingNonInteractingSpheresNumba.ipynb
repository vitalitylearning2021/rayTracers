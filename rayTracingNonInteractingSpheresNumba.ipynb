{
  "nbformat": 4,
  "nbformat_minor": 0,
  "metadata": {
    "colab": {
      "provenance": [],
      "gpuType": "T4"
    },
    "kernelspec": {
      "name": "python3",
      "display_name": "Python 3"
    },
    "language_info": {
      "name": "python"
    },
    "accelerator": "GPU"
  },
  "cells": [
    {
      "cell_type": "code",
      "source": [
        "import  numpy as np\n",
        "import  math\n",
        "from    numba import cuda, float32"
      ],
      "metadata": {
        "id": "p8Zzih1Rtd6g"
      },
      "execution_count": null,
      "outputs": []
    },
    {
      "cell_type": "code",
      "source": [
        "@cuda.jit(device=True)\n",
        "def normalize_vector(input_array):\n",
        "    \"\"\"\n",
        "    Normalizes the given input array in place.\n",
        "\n",
        "    Parameters:\n",
        "    - input_array: array-like object representing a vector.\n",
        "                   Assumes the array is allocated on device memory.\n",
        "    \"\"\"\n",
        "    # Compute the norm of the vector\n",
        "    norm = float32(0.0)\n",
        "    for i in range(len(input_array)):  # Use the dynamic length of the array\n",
        "        norm += input_array[i] ** 2\n",
        "    norm = math.sqrt(norm)  # Use math.sqrt for compatibility with device functions\n",
        "\n",
        "    # Normalize the vector components\n",
        "    if norm > 0:  # Avoid division by zero\n",
        "        for i in range(len(input_array)):\n",
        "            input_array[i] /= norm"
      ],
      "metadata": {
        "id": "d7JZvAj6t12g"
      },
      "execution_count": null,
      "outputs": []
    },
    {
      "cell_type": "code",
      "source": [
        "from numba import cuda\n",
        "\n",
        "@cuda.jit(device=True)\n",
        "def dot_product(a, b):\n",
        "    \"\"\"\n",
        "    Calculate the dot product of two vectors of the same length.\n",
        "\n",
        "    Parameters:\n",
        "    - a: array-like object, first input vector.\n",
        "    - b: array-like object, second input vector.\n",
        "         Assumes both arrays have the same length.\n",
        "    \"\"\"\n",
        "    result = 0.0\n",
        "    for i in range(len(a)):  # Iterate dynamically over the length of the input vectors\n",
        "        result += a[i] * b[i]\n",
        "    return result"
      ],
      "metadata": {
        "id": "PikO4D-ovvOu"
      },
      "execution_count": null,
      "outputs": []
    },
    {
      "cell_type": "code",
      "source": [
        "@cuda.jit(device=True)\n",
        "def ray_sphere_intersection(ray_origin, ray_direction, center, radius):\n",
        "    \"\"\"\n",
        "    Perform ray-sphere intersection test.\n",
        "\n",
        "    Parameters:\n",
        "    - ray_origin: array-like, origin of the ray.\n",
        "    - ray_direction: array-like, direction of the ray (normalized).\n",
        "    - center: array-like, center of the sphere.\n",
        "    - radius: float, radius of the sphere.\n",
        "\n",
        "    Returns:\n",
        "    - t: float, the distance to the intersection point. Returns a large value if no intersection.\n",
        "    - hit: bool, whether the ray intersects the sphere.\n",
        "    \"\"\"\n",
        "    oc = cuda.local.array(3, dtype=float32)\n",
        "    for i in range(3):\n",
        "        oc[i] = ray_origin[i] - center[i]\n",
        "\n",
        "    a = dot_product(ray_direction, ray_direction)\n",
        "    b = 2.0 * dot_product(oc, ray_direction)\n",
        "    c = dot_product(oc, oc) - radius * radius\n",
        "    discriminant = b * b - 4 * a * c\n",
        "\n",
        "    if discriminant > 0.0:\n",
        "        t = (-b - math.sqrt(discriminant)) / (2.0 * a)\n",
        "        if t > 0.001:  # Avoid near-zero intersections\n",
        "            return t, True\n",
        "    return float('inf'), False"
      ],
      "metadata": {
        "id": "XBktdkJVypY7"
      },
      "execution_count": null,
      "outputs": []
    },
    {
      "cell_type": "code",
      "source": [
        "@cuda.jit\n",
        "def render(image, width, height, spheres, num_spheres):\n",
        "    \"\"\"\n",
        "    Kernel to render the scene by testing ray-sphere intersections.\n",
        "    \"\"\"\n",
        "    x, y = cuda.grid(2)\n",
        "    if x >= width or y >= height:\n",
        "        return\n",
        "\n",
        "    idx = y * width + x\n",
        "    u = x / width\n",
        "    v = y / height\n",
        "\n",
        "    # Ray origin\n",
        "    ray_origin = cuda.local.array(3, dtype=float32)\n",
        "    ray_origin[0] = 0.\n",
        "    ray_origin[1] = 0.\n",
        "    ray_origin[2] = 0.\n",
        "\n",
        "    # Ray direction\n",
        "    ray_direction = cuda.local.array(3, dtype=float32)\n",
        "    ray_direction[0] = 2.0 * u - 1.0\n",
        "    ray_direction[1] = 2.0 * v - 1.0\n",
        "    ray_direction[2] = -1.0\n",
        "\n",
        "    normalize_vector(ray_direction)\n",
        "\n",
        "    color = cuda.local.array(3, dtype=float32)\n",
        "    color[0] = 0.\n",
        "    color[1] = 0.\n",
        "    color[2] = 0.\n",
        "\n",
        "    closest_t = float('inf')\n",
        "\n",
        "    for i in range(num_spheres):\n",
        "        center = spheres[i, :3]\n",
        "        radius = spheres[i, 3]\n",
        "\n",
        "        t, hit = ray_sphere_intersection(ray_origin, ray_direction, center, radius)\n",
        "        if hit and t < closest_t:\n",
        "            closest_t = t\n",
        "            for j in range(3):\n",
        "                hit_point = ray_origin[j] + t * ray_direction[j]\n",
        "                normal = (hit_point - center[j]) / radius\n",
        "                color[j] = 0.5 * (normal + 1.0)  # Map normals to RGB\n",
        "\n",
        "    image[idx, 0] = color[0]\n",
        "    image[idx, 1] = color[1]\n",
        "    image[idx, 2] = color[2]"
      ],
      "metadata": {
        "id": "CgX3DvSvyuk6"
      },
      "execution_count": null,
      "outputs": []
    },
    {
      "cell_type": "code",
      "source": [
        "# Sphere properties: x, y, z, radius\n",
        "spheres_data = np.array([\n",
        "    [0.0, 0.0, -1.0, 0.5],  # Sphere 1\n",
        "    [1.0, 0.0, -1.5, 0.5],  # Sphere 2\n",
        "], dtype=np.float32)"
      ],
      "metadata": {
        "id": "cBp1Edl1y1aT"
      },
      "execution_count": null,
      "outputs": []
    },
    {
      "cell_type": "code",
      "source": [
        "# Image dimensions\n",
        "width, height = 800, 400\n",
        "threads_per_block = (16, 16)\n",
        "blocks_per_grid_x = (width + threads_per_block[0] - 1) // threads_per_block[0]\n",
        "blocks_per_grid_y = (height + threads_per_block[1] - 1) // threads_per_block[1]\n",
        "blocks_per_grid = (blocks_per_grid_x, blocks_per_grid_y)"
      ],
      "metadata": {
        "id": "rK939SZLy6JC"
      },
      "execution_count": null,
      "outputs": []
    },
    {
      "cell_type": "code",
      "source": [
        "# Allocate memory for the image\n",
        "image       = np.zeros((width * height, 3), dtype=np.float32)\n",
        "image_gpu   = cuda.to_device(image)\n",
        "spheres_gpu = cuda.to_device(spheres_data)"
      ],
      "metadata": {
        "id": "dEWbqIxqy-3C"
      },
      "execution_count": null,
      "outputs": []
    },
    {
      "cell_type": "code",
      "source": [
        "# Launch the kernel\n",
        "print(blocks_per_grid)\n",
        "print(threads_per_block)\n",
        "render[blocks_per_grid, threads_per_block](image_gpu, width, height, spheres_gpu, len(spheres_data))"
      ],
      "metadata": {
        "colab": {
          "base_uri": "https://localhost:8080/"
        },
        "id": "6_4Io8fLzEVq",
        "outputId": "08c3963f-138d-49d1-ed24-86c7ba4dd909"
      },
      "execution_count": null,
      "outputs": [
        {
          "output_type": "stream",
          "name": "stdout",
          "text": [
            "(50, 25)\n",
            "(16, 16)\n"
          ]
        }
      ]
    },
    {
      "cell_type": "code",
      "source": [
        "# Copy the result back to host\n",
        "image_gpu.copy_to_host(image)\n",
        "\n",
        "# Reshape and save\n",
        "image = image.reshape((height, width, 3))\n",
        "import matplotlib.pyplot as plt\n",
        "plt.imshow(image)\n",
        "plt.axis('off')\n",
        "plt.show()"
      ],
      "metadata": {
        "colab": {
          "base_uri": "https://localhost:8080/",
          "height": 285
        },
        "id": "QHwYeNAlzNDa",
        "outputId": "9fde80a6-a874-407d-ce3d-af42a877a687"
      },
      "execution_count": null,
      "outputs": [
        {
          "output_type": "display_data",
          "data": {
            "text/plain": [
              "<Figure size 640x480 with 1 Axes>"
            ],
            "image/png": "[encoded data removed]"
          },
          "metadata": {}
        }
      ]
    }
  ]
}